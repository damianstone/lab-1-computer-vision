{
 "cells": [
  {
   "cell_type": "markdown",
   "metadata": {},
   "source": [
    "# Load and display"
   ]
  },
  {
   "cell_type": "code",
   "execution_count": 1,
   "metadata": {},
   "outputs": [],
   "source": [
    "import cv2\n",
    "import numpy as np\n",
    "\n",
    "# load image from a file into the container\n",
    "image = cv2.imread(\"myimage.jpg\", cv2.IMREAD_UNCHANGED)\n",
    "\n",
    "# construct a window for image display\n",
    "namedWindow = 'Display window'\n",
    "\n",
    "# visualise the loaded image in the window\n",
    "cv2.imshow(namedWindow, image)\n",
    "\n",
    "# wait for a key press until returning from the programw\n",
    "cv2.waitKey(0)\n",
    "\n",
    "# closing all open windows\n",
    "cv2.destroyAllWindows()"
   ]
  },
  {
   "cell_type": "markdown",
   "metadata": {},
   "source": [
    "# Create, draw and save "
   ]
  },
  {
   "cell_type": "code",
   "execution_count": 1,
   "metadata": {},
   "outputs": [
    {
     "data": {
      "text/plain": [
       "True"
      ]
     },
     "execution_count": 1,
     "metadata": {},
     "output_type": "execute_result"
    }
   ],
   "source": [
    "import cv2\n",
    "import numpy as np\n",
    "\n",
    "# create a red 256x256, 8bit, 3channel BGR image in a matrix container\n",
    "image = np.zeros([256,256,3], dtype=np.uint8)\n",
    "image[:,:,2] = 255\n",
    "\n",
    "# put white text HelloOpenCV\n",
    "image = cv2.putText(image, \"HelloOpenCV\", (70, 70), cv2.FONT_HERSHEY_COMPLEX_SMALL, 0.8, (255, 255, 255), 1, cv2.LINE_AA)\n",
    "\n",
    "# draw blue line under text\n",
    "image = cv2.line(image, (74, 90), (190, 90), (255, 0, 0), 2)\n",
    "\n",
    "# draw a green smile \n",
    "image = cv2.ellipse(image, (130, 180), (25,25), 180, 180, 360, (0, 255, 0), 2)\n",
    "image = cv2.circle(image, (130, 180), 50, (0, 255, 0), 2)\n",
    "image = cv2.circle(image, (110, 160), 5, (0, 255, 0), 2)\n",
    "image = cv2.circle(image, (150, 160), 5, (0, 255, 0), 2)\n",
    "\n",
    "# save image to file\n",
    "cv2.imwrite(\"myimage.jpg\", image)"
   ]
  },
  {
   "cell_type": "markdown",
   "metadata": {},
   "source": [
    "# Access and set pixel values"
   ]
  },
  {
   "cell_type": "code",
   "execution_count": 2,
   "metadata": {},
   "outputs": [],
   "source": [
    "import cv2\n",
    "import numpy as np\n",
    "\n",
    "# create a red 256x256, 8bit, 3channel BGR image in a matrix container\n",
    "image = np.zeros([256,256,3], dtype=np.uint8)\n",
    "\n",
    "# set pixels to create colour pattern\n",
    "\n",
    "for y in range(0, image.shape[0]):  # go through all rows (or scanlines)\n",
    "\tfor x in range(0, image.shape[1]):  # go through all columns\n",
    "\t\timage[y, x, 0] = x # set blue component\n",
    "\t\timage[y, x, 1] = y # set green component  \n",
    "\t\timage[y, x, 2] = 255 - image[y, x,1] # set red component\n",
    "\n",
    "# construct a window for image display\n",
    "namedWindow = 'Display window'\n",
    "\n",
    "# visualise the loaded image in the window\n",
    "cv2.imshow(namedWindow, image)\n",
    "\n",
    "# wait for a key press until returning from the programw\n",
    "cv2.waitKey(0)\n",
    "\n",
    "# closing all open windows\n",
    "cv2.destroyAllWindows()"
   ]
  }
 ],
 "metadata": {
  "kernelspec": {
   "display_name": "venv-lab1",
   "language": "python",
   "name": "python3"
  },
  "language_info": {
   "codemirror_mode": {
    "name": "ipython",
    "version": 3
   },
   "file_extension": ".py",
   "mimetype": "text/x-python",
   "name": "python",
   "nbconvert_exporter": "python",
   "pygments_lexer": "ipython3",
   "version": "3.9.0"
  }
 },
 "nbformat": 4,
 "nbformat_minor": 2
}
